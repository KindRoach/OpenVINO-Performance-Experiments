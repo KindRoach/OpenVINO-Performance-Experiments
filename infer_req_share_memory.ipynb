{
 "cells": [
  {
   "cell_type": "markdown",
   "source": [
    "# Infer Request Share Input/Output Tensor Memory\n",
    "\n",
    "OpenVINO provides `share_inputs` and `share_outputs` args in infer() method of InferRequest."
   ],
   "metadata": {
    "collapsed": false
   },
   "id": "c0446b6f96488d15"
  },
  {
   "cell_type": "markdown",
   "source": [
    "### Define benchmark function"
   ],
   "metadata": {
    "collapsed": false
   },
   "id": "9c6f5b6b363dc04"
  },
  {
   "cell_type": "code",
   "outputs": [],
   "source": [
    "from time import time\n",
    "\n",
    "import numpy as np\n",
    "from ipywidgets import interact, widgets\n",
    "from openvino.runtime import Core\n",
    "\n",
    "\n",
    "def benchmark_model(infer_frames_func, batch_size):\n",
    "    sec = 10\n",
    "    count = 0\n",
    "    start = time()\n",
    "    inputs = np.random.randn(batch_size, 3, 224, 224)\n",
    "    while time() - start < sec:\n",
    "        infer_frames_func(inputs)\n",
    "        count += batch_size\n",
    "\n",
    "    print(f\"FPS={count / sec:.2f}\")\n",
    "\n",
    "\n",
    "MEAN = [0.485, 0.456, 0.406]\n",
    "STD = [0.229, 0.224, 0.225]"
   ],
   "metadata": {
    "collapsed": false
   },
   "id": "1bad90fdefe4e030",
   "execution_count": null
  },
  {
   "cell_type": "markdown",
   "source": [
    "#### Choose Model"
   ],
   "metadata": {
    "collapsed": false
   },
   "id": "80cbbcceaed12cc"
  },
  {
   "cell_type": "code",
   "outputs": [],
   "source": [
    "model_name = \"resnet50\"\n",
    "model_type = \"int8\"\n",
    "\n",
    "models = [\"resnet18\", \"resnet34\", \"resnet50\", \"resnet101\", \"resnet152\"]\n",
    "\n",
    "\n",
    "@interact(option=widgets.Dropdown(options=models, value=model_name, description=\"model name\"))\n",
    "def read_dropdown(option):\n",
    "    global model_name\n",
    "    model_name = option\n",
    "\n",
    "\n",
    "model_types = [\"fp32\", \"fp16\", \"int8\"]\n",
    "\n",
    "\n",
    "@interact(option=widgets.Dropdown(options=model_types, value=model_type, description=\"model type\"))\n",
    "def read_dropdown(option):\n",
    "    global model_type\n",
    "    model_type = option\n",
    "\n",
    "\n",
    "model_path = f\"models/{model_name}/{model_type}/model.xml\""
   ],
   "metadata": {
    "collapsed": false
   },
   "id": "9736679f68391b24",
   "execution_count": null
  },
  {
   "cell_type": "markdown",
   "source": [
    "### Define Infer Function"
   ],
   "metadata": {
    "collapsed": false
   },
   "id": "4b72b7780bfac1b4"
  },
  {
   "cell_type": "code",
   "outputs": [],
   "source": [
    "def not_share_mem():\n",
    "    model = Core().compile_model(model_path, \"CPU\")\n",
    "    req = model.create_infer_request()\n",
    "\n",
    "    def infer_frames(input_frames: np.ndarray):\n",
    "        req.infer(input_frames)\n",
    "\n",
    "    return infer_frames\n",
    "\n",
    "\n",
    "def share_mem():\n",
    "    model = Core().compile_model(model_path, \"CPU\")\n",
    "    req = model.create_infer_request()\n",
    "\n",
    "    def infer_frames(input_frames: np.ndarray):\n",
    "        req.infer(input_frames, share_inputs=True, share_outputs=True)\n",
    "\n",
    "    return infer_frames"
   ],
   "metadata": {
    "collapsed": false
   },
   "id": "1b0f7150fa31e51",
   "execution_count": null
  },
  {
   "cell_type": "markdown",
   "source": [
    "### Benchmark\n",
    "\n",
    "Choose batch size"
   ],
   "metadata": {
    "collapsed": false
   },
   "id": "12665a26e5cc4d90"
  },
  {
   "cell_type": "code",
   "outputs": [],
   "source": [
    "bs = 8\n",
    "\n",
    "\n",
    "@interact(batch_size=\"8\")\n",
    "def read_input(batch_size):\n",
    "    global bs\n",
    "    bs = int(batch_size)"
   ],
   "metadata": {
    "collapsed": false
   },
   "id": "9d8bc1e958318ac1",
   "execution_count": null
  },
  {
   "cell_type": "markdown",
   "source": [
    "No Memory Share "
   ],
   "metadata": {
    "collapsed": false
   },
   "id": "fa2d831bd7c5eef6"
  },
  {
   "cell_type": "code",
   "outputs": [],
   "source": [
    "benchmark_model(not_share_mem(), bs)"
   ],
   "metadata": {
    "collapsed": false
   },
   "id": "9519f995dddd1531",
   "execution_count": null
  },
  {
   "cell_type": "markdown",
   "source": [
    "Enable Memory Share"
   ],
   "metadata": {
    "collapsed": false
   },
   "id": "32597dadb26e9a22"
  },
  {
   "cell_type": "code",
   "outputs": [],
   "source": [
    "benchmark_model(share_mem(), bs)"
   ],
   "metadata": {
    "collapsed": false
   },
   "id": "39ac40bf3963c0ad",
   "execution_count": null
  }
 ],
 "metadata": {
  "kernelspec": {
   "display_name": "Python 3",
   "language": "python",
   "name": "python3"
  },
  "language_info": {
   "codemirror_mode": {
    "name": "ipython",
    "version": 2
   },
   "file_extension": ".py",
   "mimetype": "text/x-python",
   "name": "python",
   "nbconvert_exporter": "python",
   "pygments_lexer": "ipython2",
   "version": "2.7.6"
  }
 },
 "nbformat": 4,
 "nbformat_minor": 5
}
