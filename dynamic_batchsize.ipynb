{
 "cells": [
  {
   "cell_type": "markdown",
   "id": "4d9aa6b5de510041",
   "metadata": {
    "collapsed": false
   },
   "source": [
    "# Dynamic Batch Size v.s. Static Batch Size\n",
    "\n",
    "For OpenVINO dynamic shape usage, please refer to [Changing Input Shapes](https://docs.openvino.ai/2023.2/openvino_docs_OV_UG_ShapeInference.html) "
   ]
  },
  {
   "cell_type": "markdown",
   "id": "2779486006985c8",
   "metadata": {
    "collapsed": false
   },
   "source": [
    "#### Load OpenVINO models"
   ]
  },
  {
   "cell_type": "code",
   "execution_count": null,
   "id": "95cf5c1422287b95",
   "metadata": {
    "collapsed": false
   },
   "outputs": [],
   "source": [
    "import time\n",
    "\n",
    "import numpy as np\n",
    "from ipywidgets import interact, widgets\n",
    "from openvino import Core\n",
    "\n",
    "model_name = \"resnet50\"\n",
    "model_type = \"int8\"\n",
    "\n",
    "models = [\"resnet18\", \"resnet34\", \"resnet50\", \"resnet101\", \"resnet152\"]\n",
    "\n",
    "\n",
    "@interact(option=widgets.Dropdown(options=models, value=model_name, description=\"model name\"))\n",
    "def read_dropdown(option):\n",
    "    global model_name\n",
    "    model_name = option\n",
    "\n",
    "\n",
    "model_types = [\"fp32\", \"fp16\", \"int8\"]\n",
    "\n",
    "\n",
    "@interact(option=widgets.Dropdown(options=model_types, value=model_type, description=\"model type\"))\n",
    "def read_dropdown(option):\n",
    "    global model_type\n",
    "    model_type = option\n"
   ]
  },
  {
   "cell_type": "code",
   "execution_count": null,
   "id": "initial_id",
   "metadata": {
    "collapsed": false
   },
   "outputs": [],
   "source": [
    "def set_batch_size(model, batch_size: int):\n",
    "    shapes = {}\n",
    "    for input_layer in model.inputs:\n",
    "        shapes[input_layer] = input_layer.partial_shape\n",
    "        shapes[input_layer][0] = batch_size\n",
    "    model.reshape(shapes)\n",
    "\n",
    "\n",
    "core = Core()\n",
    "model = core.read_model(f\"models/{model_name}/{model_type}/model.xml\")"
   ]
  },
  {
   "cell_type": "markdown",
   "id": "890d4bf5d1910615",
   "metadata": {
    "collapsed": false
   },
   "source": [
    "#### Set batch size"
   ]
  },
  {
   "cell_type": "code",
   "execution_count": null,
   "id": "fa29acbbef212225",
   "metadata": {
    "collapsed": false
   },
   "outputs": [],
   "source": [
    "set_batch_size(model, -1)\n",
    "dynamic_model = core.compile_model(model, \"CPU\")\n",
    "dynamic_model.input().get_partial_shape()"
   ]
  },
  {
   "cell_type": "code",
   "execution_count": null,
   "id": "fed0c2391c54ea22",
   "metadata": {
    "collapsed": false
   },
   "outputs": [],
   "source": [
    "set_batch_size(model, 1)\n",
    "static_model_b1 = core.compile_model(model, \"CPU\")\n",
    "static_model_b1.input().get_partial_shape()"
   ]
  },
  {
   "cell_type": "code",
   "execution_count": null,
   "id": "d35e81e57b94fcdb",
   "metadata": {
    "collapsed": false
   },
   "outputs": [],
   "source": [
    "set_batch_size(model, 8)\n",
    "static_model_b8 = core.compile_model(model, \"CPU\")\n",
    "static_model_b8.input().get_partial_shape()"
   ]
  },
  {
   "cell_type": "markdown",
   "id": "74ad8ca14b91fade",
   "metadata": {
    "collapsed": false
   },
   "source": [
    "#### Benchmark Models"
   ]
  },
  {
   "cell_type": "code",
   "execution_count": null,
   "id": "e8929f6b0ccfd8ca",
   "metadata": {
    "collapsed": false
   },
   "outputs": [],
   "source": [
    "SEC = 10\n",
    "\n",
    "\n",
    "def benchmark_model(model, batch_size: int):\n",
    "    inputs = np.random.rand(batch_size, 3, 224, 224)\n",
    "    \n",
    "    count = 0\n",
    "    start = time.time()\n",
    "    while time.time() - start < SEC:\n",
    "        model(inputs)\n",
    "        count += batch_size\n",
    "        \n",
    "    print(f\"FPS={count / SEC:.2f}\")"
   ]
  },
  {
   "cell_type": "markdown",
   "id": "bb3a72c8b399b1bd",
   "metadata": {
    "collapsed": false
   },
   "source": [
    "1. Dynamic shape model with batch size = 1"
   ]
  },
  {
   "cell_type": "code",
   "execution_count": null,
   "id": "4c3eacc39fe9752",
   "metadata": {
    "collapsed": false
   },
   "outputs": [],
   "source": [
    "benchmark_model(dynamic_model, 1)"
   ]
  },
  {
   "cell_type": "markdown",
   "id": "ff4b37aa78716dd4",
   "metadata": {
    "collapsed": false
   },
   "source": [
    "2. Static shape model with batch size = 1"
   ]
  },
  {
   "cell_type": "code",
   "execution_count": null,
   "id": "ab93e3796ea90974",
   "metadata": {
    "collapsed": false
   },
   "outputs": [],
   "source": [
    "benchmark_model(static_model_b1, 1)"
   ]
  },
  {
   "cell_type": "markdown",
   "id": "c44075aac45956e6",
   "metadata": {
    "collapsed": false
   },
   "source": [
    "3. Dynamic shape model with batch size = 8"
   ]
  },
  {
   "cell_type": "code",
   "execution_count": null,
   "id": "f8460f885080d45b",
   "metadata": {
    "collapsed": false
   },
   "outputs": [],
   "source": [
    "benchmark_model(dynamic_model, 8)"
   ]
  },
  {
   "cell_type": "markdown",
   "id": "7b137587779252dd",
   "metadata": {
    "collapsed": false
   },
   "source": [
    "4. Static shape model with batch size = 8"
   ]
  },
  {
   "cell_type": "code",
   "execution_count": null,
   "id": "f8b299bb8c64fbf3",
   "metadata": {
    "collapsed": false
   },
   "outputs": [],
   "source": [
    "benchmark_model(static_model_b8, 8)"
   ]
  }
 ],
 "metadata": {
  "kernelspec": {
   "display_name": "Python 3 (ipykernel)",
   "language": "python",
   "name": "python3"
  },
  "language_info": {
   "codemirror_mode": {
    "name": "ipython",
    "version": 3
   },
   "file_extension": ".py",
   "mimetype": "text/x-python",
   "name": "python",
   "nbconvert_exporter": "python",
   "pygments_lexer": "ipython3",
   "version": "3.10.13"
  }
 },
 "nbformat": 4,
 "nbformat_minor": 5
}
