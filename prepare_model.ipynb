{
 "cells": [
  {
   "cell_type": "markdown",
   "source": [
    "# Prepare Models"
   ],
   "metadata": {
    "collapsed": false
   },
   "id": "1b2a14914a8f8c01"
  },
  {
   "cell_type": "markdown",
   "source": [
    "#### Create PyTorch models from timm"
   ],
   "metadata": {
    "collapsed": false
   },
   "id": "9cd92f415d782e11"
  },
  {
   "cell_type": "code",
   "execution_count": null,
   "id": "17d001ea38037878",
   "metadata": {
    "collapsed": false
   },
   "outputs": [],
   "source": [
    "import timm\n",
    "\n",
    "model_names = [\"resnet18\", \"resnet34\", \"resnet50\", \"resnet101\", \"resnet152\"]\n",
    "models = [timm.create_model(m) for m in model_names]"
   ]
  },
  {
   "cell_type": "markdown",
   "id": "1a3ab0c3fcffdde4",
   "metadata": {
    "collapsed": false
   },
   "source": [
    "#### Convert PyTorch models to OpenVINO"
   ]
  },
  {
   "cell_type": "code",
   "execution_count": null,
   "id": "b38d39ad4bcede58",
   "metadata": {
    "collapsed": false
   },
   "outputs": [],
   "source": [
    "from pathlib import Path\n",
    "\n",
    "import nncf\n",
    "import torch\n",
    "from torch.utils.data import DataLoader, TensorDataset\n",
    "import openvino as ov\n",
    "from openvino.tools import mo\n",
    "\n",
    "# Use random tensor for calibration dataset\n",
    "dataloader = DataLoader(TensorDataset(torch.randn(1024, 3, 224, 224)))\n",
    "dataset = nncf.Dataset(dataloader, lambda item: item[0].numpy())\n",
    "\n",
    "for model, name in zip(models, model_names):\n",
    "    print(f\"Convert {name} to OpenVINO\")\n",
    "    ov_model = mo.convert_model(model, input_shape=[-1, 3, 224, 224])\n",
    "    \n",
    "    Path(f\"models/{name}/fp32\").mkdir(parents=True, exist_ok=True)\n",
    "    Path(f\"models/{name}/fp16\").mkdir(parents=True, exist_ok=True)\n",
    "    Path(f\"models/{name}/int8\").mkdir(parents=True, exist_ok=True)\n",
    "\n",
    "    ov.save_model(ov_model, f\"models/{name}/fp32/model.xml\", compress_to_fp16=False)\n",
    "    ov.save_model(ov_model, f\"models/{name}/fp16/model.xml\", compress_to_fp16=True)\n",
    "    ov_model_int8 = nncf.quantize(ov_model, dataset, subset_size=len(dataloader))\n",
    "    ov.save_model(ov_model_int8, f\"models/{name}/int8/model.xml\")"
   ]
  }
 ],
 "metadata": {
  "kernelspec": {
   "display_name": "Python 3 (ipykernel)",
   "language": "python",
   "name": "python3"
  },
  "language_info": {
   "codemirror_mode": {
    "name": "ipython",
    "version": 3
   },
   "file_extension": ".py",
   "mimetype": "text/x-python",
   "name": "python",
   "nbconvert_exporter": "python",
   "pygments_lexer": "ipython3",
   "version": "3.10.13"
  }
 },
 "nbformat": 4,
 "nbformat_minor": 5
}
