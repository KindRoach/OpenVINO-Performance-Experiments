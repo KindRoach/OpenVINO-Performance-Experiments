{
 "cells": [
  {
   "cell_type": "markdown",
   "source": [
    "# Image Preprocessing\n",
    "\n",
    "OpenVINO provide [Optimize Preprocessing](https://docs.openvino.ai/2023.2/openvino_docs_OV_UG_Preprocessing_Overview.html) APIs."
   ],
   "metadata": {
    "collapsed": false
   },
   "id": "b2eb58bf4ed05d0a"
  },
  {
   "cell_type": "markdown",
   "source": [
    "#### Define benchmark function"
   ],
   "metadata": {
    "collapsed": false
   },
   "id": "93c4a0b1b36d9d42"
  },
  {
   "cell_type": "code",
   "outputs": [],
   "source": [
    "from time import time\n",
    "\n",
    "import cv2\n",
    "import numpy\n",
    "import numpy as np\n",
    "from ipywidgets import interact, widgets\n",
    "from openvino.preprocess import ColorFormat, PrePostProcessor, ResizeAlgorithm\n",
    "from openvino.runtime import Core, Type, Layout\n",
    "\n",
    "\n",
    "def benchmark_model(infer_frames_func, batch_size):\n",
    "    sec = 10\n",
    "    count = 0\n",
    "    start = time()\n",
    "    inputs = np.random.randint(0, 256, size=(batch_size, 1080, 1920, 3), dtype=np.uint8)\n",
    "    while time() - start < sec:\n",
    "        infer_frames_func(inputs)\n",
    "        count += batch_size\n",
    "\n",
    "    print(f\"FPS={count / sec:.2f}\")\n",
    "\n",
    "\n",
    "MEAN = [0.485, 0.456, 0.406]\n",
    "STD = [0.229, 0.224, 0.225]"
   ],
   "metadata": {
    "collapsed": false
   },
   "id": "a135c2f7bd803272",
   "execution_count": null
  },
  {
   "cell_type": "markdown",
   "source": [
    "#### Choose Model"
   ],
   "metadata": {
    "collapsed": false
   },
   "id": "7c5212c5332603b3"
  },
  {
   "cell_type": "code",
   "outputs": [],
   "source": [
    "model_name = \"resnet50\"\n",
    "model_type = \"int8\"\n",
    "\n",
    "models = [\"resnet18\", \"resnet34\", \"resnet50\", \"resnet101\", \"resnet152\"]\n",
    "\n",
    "\n",
    "@interact(option=widgets.Dropdown(options=models, value=model_name, description=\"model name\"))\n",
    "def read_dropdown(option):\n",
    "    global model_name\n",
    "    model_name = option\n",
    "\n",
    "\n",
    "model_types = [\"fp32\", \"fp16\", \"int8\"]\n",
    "\n",
    "\n",
    "@interact(option=widgets.Dropdown(options=model_types, value=model_type, description=\"model type\"))\n",
    "def read_dropdown(option):\n",
    "    global model_type\n",
    "    model_type = option\n",
    "\n",
    "\n",
    "model_path = f\"models/{model_name}/{model_type}/model.xml\""
   ],
   "metadata": {
    "collapsed": false
   },
   "id": "56e49a1945f817ba",
   "execution_count": null
  },
  {
   "cell_type": "markdown",
   "source": [
    "#### OpenCV Preprocess"
   ],
   "metadata": {
    "collapsed": false
   },
   "id": "6661d4b187f90bb1"
  },
  {
   "cell_type": "code",
   "outputs": [],
   "source": [
    "def opencv_preprocess():\n",
    "    model = Core().compile_model(model_path, \"CPU\")\n",
    "    req = model.create_infer_request()\n",
    "\n",
    "    def infer_frames(input_frames: np.ndarray):\n",
    "        mean = 255 * np.array(MEAN)\n",
    "        std = 255 * np.array(STD)\n",
    "\n",
    "        preprocessed_frames = []\n",
    "        for frame in input_frames:\n",
    "            frame = cv2.resize(frame, (224, 224))\n",
    "            frame = cv2.cvtColor(frame, cv2.COLOR_BGR2RGB)\n",
    "            frame = frame.transpose(2, 0, 1)  # HWC to CHW\n",
    "            frame = (frame - mean[:, None, None]) / std[:, None, None]\n",
    "            preprocessed_frames.append(frame)\n",
    "\n",
    "        preprocessed_frames = np.stack(preprocessed_frames)\n",
    "        req.infer(preprocessed_frames)\n",
    "\n",
    "    return infer_frames"
   ],
   "metadata": {
    "collapsed": false
   },
   "id": "bbf419c5b22d705d",
   "execution_count": null
  },
  {
   "cell_type": "markdown",
   "source": [
    "#### OpenCV Resize + OpenVINO Preprocess"
   ],
   "metadata": {
    "collapsed": false
   },
   "id": "847922a691f86331"
  },
  {
   "cell_type": "code",
   "outputs": [],
   "source": [
    "def opencv_resize_openvino_preprocess():\n",
    "    model = Core().read_model(model_path)\n",
    "\n",
    "    ppp = PrePostProcessor(model)\n",
    "    ppp.input().tensor() \\\n",
    "        .set_element_type(Type.u8) \\\n",
    "        .set_layout(Layout('NHWC')) \\\n",
    "        .set_color_format(ColorFormat.BGR)\n",
    "\n",
    "    ppp.input().model().set_layout(Layout('NCHW'))\n",
    "\n",
    "    mean = 255 * numpy.array(MEAN)\n",
    "    scale = 255 * numpy.array(STD)\n",
    "    ppp.input().preprocess() \\\n",
    "        .convert_element_type(Type.f32) \\\n",
    "        .convert_color(ColorFormat.RGB) \\\n",
    "        .mean(mean) \\\n",
    "        .scale(scale)\n",
    "\n",
    "    model = ppp.build()\n",
    "    model = Core().compile_model(model, \"CPU\")\n",
    "    req = model.create_infer_request()\n",
    "\n",
    "    def infer_frames(input_frames: np.ndarray):\n",
    "        preprocessed_frames = []\n",
    "        for frame in input_frames:\n",
    "            frame = cv2.resize(frame, (224, 224))\n",
    "            preprocessed_frames.append(frame)\n",
    "\n",
    "        preprocessed_frames = np.stack(preprocessed_frames)\n",
    "        req.infer(preprocessed_frames)\n",
    "\n",
    "    return infer_frames"
   ],
   "metadata": {
    "collapsed": false
   },
   "id": "18abe2b3c57506b",
   "execution_count": null
  },
  {
   "cell_type": "markdown",
   "source": [
    "#### OpenVINO Preprocess"
   ],
   "metadata": {
    "collapsed": false
   },
   "id": "5088c83481835099"
  },
  {
   "cell_type": "code",
   "outputs": [],
   "source": [
    "def openvino_preprocess():\n",
    "    model = Core().read_model(model_path)\n",
    "\n",
    "    ppp = PrePostProcessor(model)\n",
    "    ppp.input().tensor() \\\n",
    "        .set_element_type(Type.u8) \\\n",
    "        .set_shape([-1, 1080, 1920, 3]) \\\n",
    "        .set_layout(Layout('NHWC')) \\\n",
    "        .set_color_format(ColorFormat.BGR)\n",
    "\n",
    "    ppp.input().model().set_layout(Layout('NCHW'))\n",
    "\n",
    "    mean = 255 * numpy.array(MEAN)\n",
    "    scale = 255 * numpy.array(STD)\n",
    "    ppp.input().preprocess() \\\n",
    "        .convert_element_type(Type.f32) \\\n",
    "        .convert_color(ColorFormat.RGB) \\\n",
    "        .resize(ResizeAlgorithm.RESIZE_LINEAR) \\\n",
    "        .mean(mean) \\\n",
    "        .scale(scale)\n",
    "\n",
    "    model = ppp.build()\n",
    "    model = Core().compile_model(model, \"CPU\")\n",
    "    req = model.create_infer_request()\n",
    "\n",
    "    def infer_frames(input_frames: np.ndarray):\n",
    "        req.infer(input_frames)\n",
    "\n",
    "    return infer_frames"
   ],
   "metadata": {
    "collapsed": false
   },
   "id": "2f2846a3028d103a",
   "execution_count": null
  },
  {
   "cell_type": "markdown",
   "source": [
    "#### Benchmark Result"
   ],
   "metadata": {
    "collapsed": false
   },
   "id": "457d6ac161e9eec5"
  },
  {
   "cell_type": "markdown",
   "source": [
    "Choose batch size"
   ],
   "metadata": {
    "collapsed": false
   },
   "id": "1529b14750062ae8"
  },
  {
   "cell_type": "code",
   "outputs": [],
   "source": [
    "bs = 8\n",
    "\n",
    "\n",
    "@interact(batch_size=\"8\")\n",
    "def read_input(batch_size):\n",
    "    global bs\n",
    "    bs = int(batch_size)"
   ],
   "metadata": {
    "collapsed": false
   },
   "id": "9283cfe84559070f",
   "execution_count": null
  },
  {
   "cell_type": "markdown",
   "source": [
    "1. OpenCV Preprocess + OpenVINO Inference"
   ],
   "metadata": {
    "collapsed": false
   },
   "id": "efa8c654d5aa75c0"
  },
  {
   "cell_type": "code",
   "outputs": [],
   "source": [
    "benchmark_model(opencv_preprocess(), bs)"
   ],
   "metadata": {
    "collapsed": false
   },
   "id": "75cd899e1e337135",
   "execution_count": null
  },
  {
   "cell_type": "markdown",
   "source": [
    "2. OpenCV Resize + OpenVINO Preprocess"
   ],
   "metadata": {
    "collapsed": false
   },
   "id": "bc91d52015cbfae2"
  },
  {
   "cell_type": "code",
   "outputs": [],
   "source": [
    "benchmark_model(opencv_resize_openvino_preprocess(), bs)"
   ],
   "metadata": {
    "collapsed": false
   },
   "id": "27369280d90882fc",
   "execution_count": null
  },
  {
   "cell_type": "markdown",
   "source": [
    "3. OpenVINO Preprocess"
   ],
   "metadata": {
    "collapsed": false
   },
   "id": "c20dd06ee78b493e"
  },
  {
   "cell_type": "code",
   "outputs": [],
   "source": [
    "benchmark_model(openvino_preprocess(), bs)"
   ],
   "metadata": {
    "collapsed": false
   },
   "id": "2dff879e335547dd",
   "execution_count": null
  }
 ],
 "metadata": {
  "kernelspec": {
   "display_name": "Python 3",
   "language": "python",
   "name": "python3"
  },
  "language_info": {
   "codemirror_mode": {
    "name": "ipython",
    "version": 2
   },
   "file_extension": ".py",
   "mimetype": "text/x-python",
   "name": "python",
   "nbconvert_exporter": "python",
   "pygments_lexer": "ipython2",
   "version": "2.7.6"
  }
 },
 "nbformat": 4,
 "nbformat_minor": 5
}
